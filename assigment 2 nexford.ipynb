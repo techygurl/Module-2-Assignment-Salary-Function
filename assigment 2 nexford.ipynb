{
 "cells": [
  {
   "cell_type": "code",
   "execution_count": 190,
   "id": "091be760",
   "metadata": {},
   "outputs": [],
   "source": [
    "import pandas as pd"
   ]
  },
  {
   "cell_type": "markdown",
   "id": "b7dfbf67",
   "metadata": {},
   "source": [
    "## Import Data"
   ]
  },
  {
   "cell_type": "code",
   "execution_count": 191,
   "id": "35a836e9",
   "metadata": {
    "scrolled": true
   },
   "outputs": [
    {
     "name": "stderr",
     "output_type": "stream",
     "text": [
      "C:\\Users\\Varnosafety INT\\Documents\\anaconda packs\\lib\\site-packages\\IPython\\core\\interactiveshell.py:3063: DtypeWarning: Columns (2,3,4,5) have mixed types.Specify dtype option on import or set low_memory=False.\n",
      "  interactivity=interactivity, compiler=compiler, result=result)\n"
     ]
    }
   ],
   "source": [
    "df = pd.read_csv(r\"C:\\Users\\Varnosafety INT\\Downloads\\archive (14)\\Total.csv\")"
   ]
  },
  {
   "cell_type": "code",
   "execution_count": 192,
   "id": "450bc286",
   "metadata": {
    "scrolled": false
   },
   "outputs": [
    {
     "data": {
      "text/html": [
       "<div>\n",
       "<style scoped>\n",
       "    .dataframe tbody tr th:only-of-type {\n",
       "        vertical-align: middle;\n",
       "    }\n",
       "\n",
       "    .dataframe tbody tr th {\n",
       "        vertical-align: top;\n",
       "    }\n",
       "\n",
       "    .dataframe thead th {\n",
       "        text-align: right;\n",
       "    }\n",
       "</style>\n",
       "<table border=\"1\" class=\"dataframe\">\n",
       "  <thead>\n",
       "    <tr style=\"text-align: right;\">\n",
       "      <th></th>\n",
       "      <th>EmployeeName</th>\n",
       "      <th>JobTitle</th>\n",
       "      <th>BasePay</th>\n",
       "      <th>OvertimePay</th>\n",
       "      <th>OtherPay</th>\n",
       "      <th>Benefits</th>\n",
       "      <th>TotalPay</th>\n",
       "      <th>TotalPayBenefits</th>\n",
       "      <th>Year</th>\n",
       "    </tr>\n",
       "  </thead>\n",
       "  <tbody>\n",
       "    <tr>\n",
       "      <th>0</th>\n",
       "      <td>NATHANIEL FORD</td>\n",
       "      <td>GENERAL MANAGER-METROPOLITAN TRANSIT AUTHORITY</td>\n",
       "      <td>167411</td>\n",
       "      <td>0</td>\n",
       "      <td>400184</td>\n",
       "      <td>Not Provided</td>\n",
       "      <td>567595.43</td>\n",
       "      <td>567595.43</td>\n",
       "      <td>2011</td>\n",
       "    </tr>\n",
       "    <tr>\n",
       "      <th>1</th>\n",
       "      <td>GARY JIMENEZ</td>\n",
       "      <td>CAPTAIN III (POLICE DEPARTMENT)</td>\n",
       "      <td>155966</td>\n",
       "      <td>245132</td>\n",
       "      <td>137811</td>\n",
       "      <td>Not Provided</td>\n",
       "      <td>538909.28</td>\n",
       "      <td>538909.28</td>\n",
       "      <td>2011</td>\n",
       "    </tr>\n",
       "    <tr>\n",
       "      <th>2</th>\n",
       "      <td>ALBERT PARDINI</td>\n",
       "      <td>CAPTAIN III (POLICE DEPARTMENT)</td>\n",
       "      <td>212739</td>\n",
       "      <td>106088</td>\n",
       "      <td>16452.6</td>\n",
       "      <td>Not Provided</td>\n",
       "      <td>335279.91</td>\n",
       "      <td>335279.91</td>\n",
       "      <td>2011</td>\n",
       "    </tr>\n",
       "    <tr>\n",
       "      <th>3</th>\n",
       "      <td>CHRISTOPHER CHONG</td>\n",
       "      <td>WIRE ROPE CABLE MAINTENANCE MECHANIC</td>\n",
       "      <td>77916</td>\n",
       "      <td>56120.7</td>\n",
       "      <td>198307</td>\n",
       "      <td>Not Provided</td>\n",
       "      <td>332343.61</td>\n",
       "      <td>332343.61</td>\n",
       "      <td>2011</td>\n",
       "    </tr>\n",
       "    <tr>\n",
       "      <th>4</th>\n",
       "      <td>PATRICK GARDNER</td>\n",
       "      <td>DEPUTY CHIEF OF DEPARTMENT,(FIRE DEPARTMENT)</td>\n",
       "      <td>134402</td>\n",
       "      <td>9737</td>\n",
       "      <td>182235</td>\n",
       "      <td>Not Provided</td>\n",
       "      <td>326373.19</td>\n",
       "      <td>326373.19</td>\n",
       "      <td>2011</td>\n",
       "    </tr>\n",
       "  </tbody>\n",
       "</table>\n",
       "</div>"
      ],
      "text/plain": [
       "        EmployeeName                                        JobTitle BasePay  \\\n",
       "0     NATHANIEL FORD  GENERAL MANAGER-METROPOLITAN TRANSIT AUTHORITY  167411   \n",
       "1       GARY JIMENEZ                 CAPTAIN III (POLICE DEPARTMENT)  155966   \n",
       "2     ALBERT PARDINI                 CAPTAIN III (POLICE DEPARTMENT)  212739   \n",
       "3  CHRISTOPHER CHONG            WIRE ROPE CABLE MAINTENANCE MECHANIC   77916   \n",
       "4    PATRICK GARDNER    DEPUTY CHIEF OF DEPARTMENT,(FIRE DEPARTMENT)  134402   \n",
       "\n",
       "  OvertimePay OtherPay      Benefits   TotalPay  TotalPayBenefits  Year  \n",
       "0           0   400184  Not Provided  567595.43         567595.43  2011  \n",
       "1      245132   137811  Not Provided  538909.28         538909.28  2011  \n",
       "2      106088  16452.6  Not Provided  335279.91         335279.91  2011  \n",
       "3     56120.7   198307  Not Provided  332343.61         332343.61  2011  \n",
       "4        9737   182235  Not Provided  326373.19         326373.19  2011  "
      ]
     },
     "execution_count": 192,
     "metadata": {},
     "output_type": "execute_result"
    }
   ],
   "source": [
    "df.head(5)"
   ]
  },
  {
   "cell_type": "code",
   "execution_count": 63,
   "id": "4112adf0",
   "metadata": {},
   "outputs": [],
   "source": [
    "#!pip install tabulate"
   ]
  },
  {
   "cell_type": "markdown",
   "id": "966de9c9",
   "metadata": {},
   "source": [
    "## Create Employee Function"
   ]
  },
  {
   "cell_type": "code",
   "execution_count": 193,
   "id": "1db84901",
   "metadata": {},
   "outputs": [],
   "source": [
    "from tabulate import tabulate\n",
    "\n",
    "def employee_details(EmployeeName):\n",
    "    # Filter employee(s) by partial, case-insensitive match\n",
    "    details = df[df['EmployeeName'].str.contains(EmployeeName, case=False, na=False)]\n",
    "\n",
    "    # Return formatted table if results exist\n",
    "    if not details.empty:\n",
    "        return tabulate(details, headers='keys', tablefmt='fancy_grid', showindex=False)\n",
    "    else:\n",
    "        return f\"No records found for employee: {EmployeeName}\"\n"
   ]
  },
  {
   "cell_type": "code",
   "execution_count": 194,
   "id": "8726c5f1",
   "metadata": {
    "scrolled": false
   },
   "outputs": [
    {
     "name": "stdout",
     "output_type": "stream",
     "text": [
      "╒════════════════╤═════════════════════════════════╤═══════════╤═══════════════╤════════════╤══════════════╤════════════╤════════════════════╤════════╕\n",
      "│ EmployeeName   │ JobTitle                        │   BasePay │   OvertimePay │   OtherPay │ Benefits     │   TotalPay │   TotalPayBenefits │   Year │\n",
      "╞════════════════╪═════════════════════════════════╪═══════════╪═══════════════╪════════════╪══════════════╪════════════╪════════════════════╪════════╡\n",
      "│ ALBERT PARDINI │ CAPTAIN III (POLICE DEPARTMENT) │    212739 │        106088 │    16452.6 │ Not Provided │     335280 │             335280 │   2011 │\n",
      "├────────────────┼─────────────────────────────────┼───────────┼───────────────┼────────────┼──────────────┼────────────┼────────────────────┼────────┤\n",
      "│ Albert Pardini │ Captain 3                       │    196265 │             0 │    11404   │ 46326.21     │     207669 │             253995 │   2012 │\n",
      "╘════════════════╧═════════════════════════════════╧═══════════╧═══════════════╧════════════╧══════════════╧════════════╧════════════════════╧════════╛\n"
     ]
    }
   ],
   "source": [
    "print(employee_details(\"ALBERT PARDINI\"))"
   ]
  },
  {
   "cell_type": "markdown",
   "id": "7f7ae9b4",
   "metadata": {},
   "source": [
    " ## Data Processing with Dictionary & Error Handling"
   ]
  },
  {
   "cell_type": "code",
   "execution_count": 195,
   "id": "2fdf39e2",
   "metadata": {},
   "outputs": [],
   "source": [
    "salary_data = {}\n",
    "\n",
    "for _, row in df.iterrows():\n",
    "    name = row['EmployeeName']\n",
    "    data = row.to_dict()\n",
    "\n",
    "    # i Stored as a list in case of multiple records per employee\n",
    "    if name in salary_data:\n",
    "        salary_data[name].append(data)\n",
    "    else:\n",
    "        salary_data[name] = [data]"
   ]
  },
  {
   "cell_type": "code",
   "execution_count": 196,
   "id": "3cfa0c48",
   "metadata": {},
   "outputs": [],
   "source": [
    "def get_employee_records(name):\n",
    "   # Return all records for an employee by name (case-insensitive).\n",
    "    \n",
    "    for employee in salary_data:\n",
    "        if employee.upper() == name.upper():\n",
    "            return salary_data[employee]\n",
    "    \n",
    "    return f\"No records found for employee: {name}\""
   ]
  },
  {
   "cell_type": "code",
   "execution_count": 197,
   "id": "7840bb61",
   "metadata": {},
   "outputs": [],
   "source": [
    "def total_pay_by_year(year):\n",
    "    \"\"\"\n",
    "    Calculates total pay for all employees in a given year.\n",
    "    Handles missing or non-numeric 'TotalPay' values gracefully.\n",
    "    \"\"\"\n",
    "    total = 0.0\n",
    "\n",
    "    for records in salary_data.values():\n",
    "        for record in records:\n",
    "            try:\n",
    "                # Check if record matches the specified year\n",
    "                if int(record.get('Year', 0)) == year:\n",
    "                    # Safely convert TotalPay to float and add to total\n",
    "                    total += float(record.get('TotalPay', 0) or 0)\n",
    "            except (ValueError, TypeError):\n",
    "                # Skip record if conversion to float or int fails\n",
    "                continue\n",
    "            except Exception as e:\n",
    "                print(f\"Unexpected error: {e}\")\n",
    "                continue\n",
    "\n",
    "    return round(total, 2)\n"
   ]
  },
  {
   "cell_type": "code",
   "execution_count": 199,
   "id": "53b51299",
   "metadata": {
    "scrolled": true
   },
   "outputs": [
    {
     "name": "stdout",
     "output_type": "stream",
     "text": [
      "------------  -------------------------------  ------  ------  ------  ------------  ------  ------  ----\n",
      "GARY JIMENEZ  CAPTAIN III (POLICE DEPARTMENT)  155966  245132  137811  Not Provided  538909  538909  2011\n",
      "------------  -------------------------------  ------  ------  ------  ------------  ------  ------  ----\n",
      "Total Pay in 2013: 2918655930.8\n"
     ]
    }
   ],
   "source": [
    "print(tabulate(get_employee_records(\"GARY JIMENEZ\")))\n",
    "\n",
    "print(\"Total Pay in 2013:\", total_pay_by_year(2013))"
   ]
  },
  {
   "cell_type": "markdown",
   "id": "9adc16a8",
   "metadata": {},
   "source": [
    " ## Export Employee Details"
   ]
  },
  {
   "cell_type": "code",
   "execution_count": 202,
   "id": "c5ed3e66",
   "metadata": {},
   "outputs": [
    {
     "name": "stdout",
     "output_type": "stream",
     "text": [
      "Employee details have been saved to ALBERT PARDINI_details.csv\n",
      "╒════════════════╤═════════════════════════════════╤═══════════╤═══════════════╤════════════╤══════════════╤════════════╤════════════════════╤════════╕\n",
      "│ EmployeeName   │ JobTitle                        │   BasePay │   OvertimePay │   OtherPay │ Benefits     │   TotalPay │   TotalPayBenefits │   Year │\n",
      "╞════════════════╪═════════════════════════════════╪═══════════╪═══════════════╪════════════╪══════════════╪════════════╪════════════════════╪════════╡\n",
      "│ ALBERT PARDINI │ CAPTAIN III (POLICE DEPARTMENT) │    212739 │        106088 │    16452.6 │ Not Provided │     335280 │             335280 │   2011 │\n",
      "├────────────────┼─────────────────────────────────┼───────────┼───────────────┼────────────┼──────────────┼────────────┼────────────────────┼────────┤\n",
      "│ Albert Pardini │ Captain 3                       │    196265 │             0 │    11404   │ 46326.21     │     207669 │             253995 │   2012 │\n",
      "╘════════════════╧═════════════════════════════════╧═══════════╧═══════════════╧════════════╧══════════════╧════════════╧════════════════════╧════════╛\n"
     ]
    }
   ],
   "source": [
    "import pandas as pd\n",
    "from tabulate import tabulate\n",
    "\n",
    "#pandas DataFrame 'df' containing employee data\n",
    "def employee_details(EmployeeName):\n",
    "    # Filter employee(s) by partial, case-insensitive match\n",
    "    details = df[df['EmployeeName'].str.contains(EmployeeName, case=False, na=False)]\n",
    "\n",
    "    #  export to CSV\n",
    "    if not details.empty:\n",
    "    \n",
    "        csv_file_name = f\"{EmployeeName}_details.csv\"\n",
    "        \n",
    "        # Export to CSV\n",
    "        details.to_csv(csv_file_name, index=False)\n",
    "\n",
    "        print(f\"Employee details have been saved to {csv_file_name}\")\n",
    "        return tabulate(details, headers='keys', tablefmt='fancy_grid', showindex=False)\n",
    "    else:\n",
    "        return f\"No records found for employee: {EmployeeName}\"\n",
    "\n",
    "\n",
    "print(employee_details(\"ALBERT PARDINI\"))"
   ]
  }
 ],
 "metadata": {
  "kernelspec": {
   "display_name": "Python 3",
   "language": "python",
   "name": "python3"
  },
  "language_info": {
   "codemirror_mode": {
    "name": "ipython",
    "version": 3
   },
   "file_extension": ".py",
   "mimetype": "text/x-python",
   "name": "python",
   "nbconvert_exporter": "python",
   "pygments_lexer": "ipython3",
   "version": "3.7.6"
  }
 },
 "nbformat": 4,
 "nbformat_minor": 5
}
